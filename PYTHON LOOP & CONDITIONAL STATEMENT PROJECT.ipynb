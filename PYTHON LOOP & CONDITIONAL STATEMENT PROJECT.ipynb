{
 "cells": [
  {
   "cell_type": "markdown",
   "id": "6d40f094",
   "metadata": {},
   "source": [
    "# Candy Jar Game Project using While Loop &Vonditional Statement(If,Elif,Else)"
   ]
  },
  {
   "cell_type": "code",
   "execution_count": 1,
   "id": "f3c5a394",
   "metadata": {},
   "outputs": [
    {
     "name": "stdout",
     "output_type": "stream",
     "text": [
      "Enter your name:Abhi\n",
      "Hi Abhi Welcome to our Candy Jar Game. Lets Play.\n",
      "Guess the number of candies in jar between 40 to 80, you only have 5 chances to win candies:44\n",
      "Little bit higher\n",
      "Guess the number of candies in jar between 40 to 80, you only have 5 chances to win candies:58\n",
      "Liitle bit lower\n",
      "Guess the number of candies in jar between 40 to 80, you only have 5 chances to win candies:53\n",
      "Little bit higher\n",
      "Guess the number of candies in jar between 40 to 80, you only have 5 chances to win candies:55\n",
      "Yay!! You got it!! Enjoy your candies Abhi !!! Have a Good Day!!!\n"
     ]
    }
   ],
   "source": [
    "name=input(\"Enter your name:\")\n",
    "print(\"Hi\", name ,\"Welcome to our Candy Jar Game. Lets Play.\")\n",
    "num=55\n",
    "count=0\n",
    "guessallowed=5\n",
    "while count<guessallowed:\n",
    "    guess=int(input(\"Guess the number of candies in jar between 40 to 80, you only have 5 chances to win candies:\"))\n",
    "    if guess<num:\n",
    "        count+=1\n",
    "        print(\"Little bit higher\")\n",
    "    elif guess>num:\n",
    "        count+=1\n",
    "        print(\"Liitle bit lower\")\n",
    "    elif guess==num:\n",
    "        print(\"Yay!! You got it!! Enjoy your candies\",name,\"!!! Have a Good Day!!!\")\n",
    "        break\n",
    "        \n",
    "if count==5:\n",
    "    print(\"Sorry. You have exceeded your chances.Better luck next time. Take care\")"
   ]
  },
  {
   "cell_type": "markdown",
   "id": "99252fc5",
   "metadata": {},
   "source": [
    "# Voting Project using While Loop &Vonditional Statement(If,Elif,Else)"
   ]
  },
  {
   "cell_type": "code",
   "execution_count": 4,
   "id": "6e3b6dbd",
   "metadata": {},
   "outputs": [
    {
     "name": "stdout",
     "output_type": "stream",
     "text": [
      "Please enter the vote (A for Abby/B for Ben/q for quit):A\n",
      "Please enter the vote (A for Abby/B for Ben/q for quit):A\n",
      "Please enter the vote (A for Abby/B for Ben/q for quit):A\n",
      "Please enter the vote (A for Abby/B for Ben/q for quit):B\n",
      "Please enter the vote (A for Abby/B for Ben/q for quit):B\n",
      "Please enter the vote (A for Abby/B for Ben/q for quit):A\n",
      "Please enter the vote (A for Abby/B for Ben/q for quit):q\n",
      "\n",
      " Total number of votes for Mr. Abby:4\n",
      "\n",
      " Total number of votes for Mr. Ben:2\n",
      "\n",
      " Mr.Abby WON the election!!!\n",
      "\n",
      " Mr.Abby WON by 2votes\n"
     ]
    }
   ],
   "source": [
    "result='A'\n",
    "numAvotes=0\n",
    "numBvotes=0\n",
    "while (result.upper() == 'A' or result.upper() == 'B'):\n",
    "    result=input(\"Please enter the vote (A for Abby/B for Ben/q for quit):\")\n",
    "    if (result.upper() == 'A'):\n",
    "        numAvotes+=1;\n",
    "    elif (result.upper() == 'B'):\n",
    "        numBvotes+=1;\n",
    "print(\"\\n Total number of votes for Mr. Abby:\" +str(numAvotes))\n",
    "print(\"\\n Total number of votes for Mr. Ben:\" +str(numBvotes))\n",
    "if (numAvotes>numBvotes):\n",
    "    print('\\n Mr.Abby WON the election!!!')\n",
    "    print('\\n Mr.Abby WON by '+str(numAvotes-numBvotes)+'votes')\n",
    "elif (numBvotes>numAvotes):\n",
    "    print('\\n Mr.Ben WON the election!!!')\n",
    "    print('\\n Mr.Ben WON by '+str(numBvotes-numAvotes)+' votes')\n",
    "else:\n",
    "    print(' They have equal number of votes')"
   ]
  },
  {
   "cell_type": "code",
   "execution_count": null,
   "id": "758a8fb5",
   "metadata": {},
   "outputs": [],
   "source": []
  }
 ],
 "metadata": {
  "kernelspec": {
   "display_name": "Python 3 (ipykernel)",
   "language": "python",
   "name": "python3"
  },
  "language_info": {
   "codemirror_mode": {
    "name": "ipython",
    "version": 3
   },
   "file_extension": ".py",
   "mimetype": "text/x-python",
   "name": "python",
   "nbconvert_exporter": "python",
   "pygments_lexer": "ipython3",
   "version": "3.10.5"
  }
 },
 "nbformat": 4,
 "nbformat_minor": 5
}
